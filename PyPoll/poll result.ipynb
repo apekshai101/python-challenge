{
 "cells": [
  {
   "cell_type": "code",
   "execution_count": 1,
   "id": "e6cf725f",
   "metadata": {
    "scrolled": true
   },
   "outputs": [
    {
     "name": "stdout",
     "output_type": "stream",
     "text": [
      "Election Results\n",
      "-------------------------\n",
      "Total Votes: 369711\n",
      "-------------------------\n",
      "Charles Casper Stockham: 23.049% (85213)\n",
      "Diana DeGette: 73.812% (272892)\n",
      "Raymon Anthony Doane: 3.139% (11606)\n",
      "-------------------------\n",
      "Winner: Diana DeGette\n",
      "-------------------------\n"
     ]
    }
   ],
   "source": [
    "import os\n",
    "import csv\n",
    "\n",
    "# Create path for your file\n",
    "electioncsv = os.path.join('/Users/apekshaingole/Desktop/python-challenge/PyPoll/Resources/election_data.csv')\n",
    "\n",
    "# Open and Read the CSV file\n",
    "with open(electioncsv) as csvfile:\n",
    "    csvreader = csv.reader(csvfile)\n",
    "    \n",
    "    # Skip the header row\n",
    "    csvheader = next(csvfile)\n",
    "    \n",
    "      # Initialize variables \n",
    "    total_votes = 0\n",
    "    candidates = []\n",
    "    names = []\n",
    "    votes = []\n",
    "\n",
    "    # Iterate through each row in the CSV file\n",
    "    for row in csvreader:\n",
    "        # Count the total number of votes by incrementing total votes for each row\n",
    "        total_votes += 1\n",
    "\n",
    "        # Extract the name of candidate from the current row & third column(index2)\n",
    "        i = row[2]\n",
    "\n",
    "        # Update the vote count in the candidates list.If the candidate is in the list, it increments the count.\n",
    "        # If not,adds the new candidate to the list names & starts the vote count at 1 for that candidate\n",
    "        if i in candidates:\n",
    "            votes[candidates.index(i)] += 1\n",
    "        else:\n",
    "            candidates.append(i)\n",
    "            names.append(i)\n",
    "            votes.append(1)\n",
    "\n",
    "        # if the current candidate has more votes than the leading candicate in names list,update name of winner\n",
    "        if votes[candidates.index(i)] > votes[candidates.index(names[0])]:\n",
    "            names[0] = i\n",
    "\n",
    "# Calculate the percentage of votes each candidate won\n",
    "    candidates_percentage = []\n",
    "    for v in votes:\n",
    "        percentage = (v / total_votes) * 100\n",
    "        candidates_percentage.append(percentage)\n",
    "   \n",
    "# Print the results to the terminal\n",
    "print(\"Election Results\")\n",
    "print(\"-------------------------\")\n",
    "print(f\"Total Votes: {total_votes}\")\n",
    "print(\"-------------------------\")\n",
    "\n",
    "for j in range(len(candidates)):\n",
    "    print(f\"{candidates[j]}: {candidates_percentage[j]:.3f}% ({votes[j]})\")\n",
    "\n",
    "print(\"-------------------------\")\n",
    "print(f\"Winner: {names[0]}\")\n",
    "print(\"-------------------------\")\n",
    "\n",
    "# Export Results to a Text File\n",
    "outputfile = os.path.join(\"Analysis\",\"analysis.txt\")\n",
    "with open(outputfile,\"w\") as txtfile:\n",
    "    txtfile.write(\"Election Results\\n\")\n",
    "    txtfile.write(\"-------------------------\\n\")\n",
    "    txtfile.write(f\"Total Votes: {total_votes}\\n\")\n",
    "    txtfile.write(\"-------------------------\\n\")    \n",
    "    for j in range(len(candidates)):\n",
    "        txtfile.write(f\"{candidates[j]}: {candidates_percentage[j]:.3f}% ({votes[j]})\\n\")        \n",
    "    txtfile.write(\"-------------------------\\n\")\n",
    "    txtfile.write(f\"Winner: {names[0]}\\n\")\n",
    "    txtfile.write(\"-------------------------\\n\")\n",
    "        \n",
    "    "
   ]
  },
  {
   "cell_type": "code",
   "execution_count": null,
   "id": "a2fe25a3",
   "metadata": {},
   "outputs": [],
   "source": []
  },
  {
   "cell_type": "code",
   "execution_count": null,
   "id": "fc082820",
   "metadata": {},
   "outputs": [],
   "source": []
  }
 ],
 "metadata": {
  "kernelspec": {
   "display_name": "Python 3 (ipykernel)",
   "language": "python",
   "name": "python3"
  },
  "language_info": {
   "codemirror_mode": {
    "name": "ipython",
    "version": 3
   },
   "file_extension": ".py",
   "mimetype": "text/x-python",
   "name": "python",
   "nbconvert_exporter": "python",
   "pygments_lexer": "ipython3",
   "version": "3.9.13"
  }
 },
 "nbformat": 4,
 "nbformat_minor": 5
}
