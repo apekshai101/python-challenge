{
 "cells": [
  {
   "cell_type": "code",
   "execution_count": 2,
   "id": "53996804",
   "metadata": {
    "scrolled": true
   },
   "outputs": [
    {
     "name": "stdout",
     "output_type": "stream",
     "text": [
      "Financial Analysis\n",
      "-------------------\n",
      "Total Months:86\n",
      "Total:$22564198\n",
      "Average Change: $-8311.11\n",
      "Greatest Increase in Profits:Aug-16($1862002)\n",
      "Greatest Decrease in Profits:Feb-14($-1825558)\n"
     ]
    }
   ],
   "source": [
    "import os\n",
    "import csv\n",
    "\n",
    "# Create path for the file\n",
    "budgetcsv = os.path.join('/Users/apekshaingole/Desktop/python-challenge/PyBank/Resources/budget_data.csv')\n",
    "\n",
    "# Read the CSV file\n",
    "with open(budgetcsv) as csvfile:\n",
    "    csvreader = csv.reader(csvfile)\n",
    "    \n",
    "   # Skip the header row \n",
    "    csv_header = next(csvfile)\n",
    "  \n",
    "\n",
    "    # Initialize Variables\n",
    "    totalmonths = 0\n",
    "    finaltotal = 0\n",
    "    changes = []\n",
    "    greatestincrease_date = ''\n",
    "    greatestincrease_value = 0\n",
    "    greatestdecrease_date = ''\n",
    "    greatestdecrease_value = 0\n",
    "    # set variable for profit/loss value\n",
    "    profitloss = 0\n",
    "\n",
    "    # Iterate through each row in csvreader  \n",
    "    for row in csvreader:\n",
    "        # Calculate total number of months \n",
    "        totalmonths = totalmonths + 1\n",
    "         # Calculate the final total, by adding profit/loss value to final total during each iteration\n",
    "        finaltotal = finaltotal + int(row[1])\n",
    "\n",
    "        # Calculate change in profit /loss values by subtracting the previous profit/loss value from current value\n",
    "        if totalmonths > 1:\n",
    "            change = int(row[1]) - profitloss\n",
    "        # add the change to the changes list\n",
    "            changes.append(change)\n",
    "            \n",
    "        # Calculate greatest increase/decrease in profit/loss values\n",
    "            if change > greatestincrease_value:\n",
    "                greatestincrease_date,greatestincrease_value = row[0], change\n",
    "\n",
    "            if change < greatestdecrease_value:\n",
    "                greatestdecrease_date,greatestdecrease_value = row[0], change\n",
    "\n",
    "        # for next iteration, update the profit/loss value with current row value        \n",
    "        profitloss = int(row[1])\n",
    "\n",
    "    # Step 7: Display Results to the terminal\n",
    "    \n",
    "    print(\"Financial Analysis\")\n",
    "    print(\"-------------------\")\n",
    "    print(f\"Total Months:{totalmonths}\")\n",
    "    print(f\"Total:${finaltotal}\")\n",
    "    print(f\"Average Change: ${round(sum(changes)/len(changes), 2)}\")\n",
    "    print(f\"Greatest Increase in Profits:{greatestincrease_date}(${greatestincrease_value})\")\n",
    "    print(f\"Greatest Decrease in Profits:{greatestdecrease_date}(${greatestdecrease_value})\")\n",
    "    \n",
    "    # Export Results to a Text File\n",
    "    outputfile = os.path.join(\"Analysis\",\"analysis.txt\")\n",
    "    with open(outputfile,\"w\") as txtfile:\n",
    "        txtfile.write(\"Financial Analysis\\n\")\n",
    "        txtfile.write(\"-------------------\\n\")\n",
    "        txtfile.write(f\"Total Months:{totalmonths}\\n\")\n",
    "        txtfile.write(f\"Total:${finaltotal}\\n\")\n",
    "        txtfile.write(f\"Average Change: ${round(sum(changes)/len(changes), 2)}\\n\")\n",
    "        txtfile.write(f\"Greatest Increase in Profits:{greatestincrease_date}(${greatestincrease_value})\\n\")\n",
    "        txtfile.write(f\"Greatest Decrease in Profits:{greatestdecrease_date}(${greatestdecrease_value})\\n\")\n",
    "\n",
    "    \n",
    "    "
   ]
  },
  {
   "cell_type": "code",
   "execution_count": null,
   "id": "4c68934b",
   "metadata": {},
   "outputs": [],
   "source": [
    "\n"
   ]
  },
  {
   "cell_type": "code",
   "execution_count": null,
   "id": "fb80a819",
   "metadata": {},
   "outputs": [],
   "source": [
    "    \n",
    "    "
   ]
  }
 ],
 "metadata": {
  "kernelspec": {
   "display_name": "Python 3 (ipykernel)",
   "language": "python",
   "name": "python3"
  },
  "language_info": {
   "codemirror_mode": {
    "name": "ipython",
    "version": 3
   },
   "file_extension": ".py",
   "mimetype": "text/x-python",
   "name": "python",
   "nbconvert_exporter": "python",
   "pygments_lexer": "ipython3",
   "version": "3.9.13"
  }
 },
 "nbformat": 4,
 "nbformat_minor": 5
}
